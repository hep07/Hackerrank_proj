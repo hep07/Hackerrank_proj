{
 "cells": [
  {
   "cell_type": "markdown",
   "metadata": {},
   "source": [
    "https://www.hackerrank.com/challenges/the-indian-job/problem"
   ]
  },
  {
   "cell_type": "code",
   "execution_count": null,
   "metadata": {
    "collapsed": true
   },
   "outputs": [],
   "source": [
    "#!/bin/python3\n",
    "\n",
    "import os\n",
    "import sys\n",
    "\n",
    "#\n",
    "# Complete the indianJob function below.\n",
    "#\n",
    "def indianJob(g, arr):\n",
    "    #\n",
    "    # Write your code here.\n",
    "    #\n",
    "    \n",
    "    # essentially we want to partition the robbers into two disjoint subsets s.t. the difference between the sum of time needed from two subsets are minimized \n",
    "    \n",
    "    # we can solve this problem easily if we have a DP table like hasSubsetSum[i][j] returning 1 if the first i elements of arr has a subset with sum equal to j, we need j up to floor(sum(arr)/2). This requires arr to be positive integers\n",
    "    totalSum = sum(arr)\n",
    "    halfSum = int(totalSum/2)\n",
    "    # initialization \n",
    "    hasSubsetSum = [ [1] + [0 for y in range(halfSum)] for x in range(len(arr) + 1)]\n",
    "    \n",
    "    # Fill the table\n",
    "    for i in range(1, len(hasSubsetSum)):\n",
    "        for j in range(1, len(hasSubsetSum[0])):\n",
    "            if hasSubsetSum[i-1][j] == 1:\n",
    "                hasSubsetSum[i][j] = 1\n",
    "            elif j - arr[i-1] >= 0 and hasSubsetSum[i-1][j - arr[i-1]]==1:\n",
    "                hasSubsetSum[i][j] = 1\n",
    "            \n",
    "    # calculate subset for minimal diff\n",
    "    # we search through all j that has hasSubsetSum[len(arr)][j]==1, i.e., there exists a subarr of arr s.t. its sus equal to j. And we keep the j's with the minimal totalSum - j - j = totalSum - 2*j. Note that it suffices to search j upto floor(sum/2)\n",
    "    running_min = None\n",
    "    \n",
    "    for j in range(halfSum+1):\n",
    "        if hasSubsetSum[len(arr)][j]==1:\n",
    "            if running_min is None or totalSum - 2*j < running_min:\n",
    "                running_min = totalSum - 2*j\n",
    "                \n",
    "    timeNeeded = (running_min + totalSum)/2.0 \n",
    "    \n",
    "    if timeNeeded <= g:\n",
    "        return(\"YES\")\n",
    "    else:\n",
    "        return(\"NO\")\n",
    "    \n",
    "            \n"
   ]
  },
  {
   "cell_type": "code",
   "execution_count": null,
   "metadata": {
    "collapsed": true
   },
   "outputs": [],
   "source": [
    "\n",
    "if __name__ == '__main__':\n",
    "    fptr = open(os.environ['OUTPUT_PATH'], 'w')\n",
    "\n",
    "    t = int(input())\n",
    "\n",
    "    for t_itr in range(t):\n",
    "        ng = input().split()\n",
    "\n",
    "        n = int(ng[0])\n",
    "\n",
    "        g = int(ng[1])\n",
    "\n",
    "        arr = list(map(int, input().rstrip().split()))\n",
    "\n",
    "        result = indianJob(g,arr)\n",
    "\n",
    "        fptr.write(result + '\\n')\n",
    "\n",
    "    fptr.close()\n"
   ]
  }
 ],
 "metadata": {
  "anaconda-cloud": {},
  "kernelspec": {
   "display_name": "Python 2",
   "language": "python",
   "name": "python2"
  },
  "language_info": {
   "codemirror_mode": {
    "name": "ipython",
    "version": 2
   },
   "file_extension": ".py",
   "mimetype": "text/x-python",
   "name": "python",
   "nbconvert_exporter": "python",
   "pygments_lexer": "ipython2",
   "version": "2.7.13"
  }
 },
 "nbformat": 4,
 "nbformat_minor": 2
}
