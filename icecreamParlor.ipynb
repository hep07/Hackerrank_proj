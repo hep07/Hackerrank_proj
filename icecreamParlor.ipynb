{
 "cells": [
  {
   "cell_type": "code",
   "execution_count": null,
   "metadata": {},
   "outputs": [],
   "source": [
    "#!/bin/python3\n",
    "\n",
    "import math\n",
    "import os\n",
    "import random\n",
    "import re\n",
    "import sys\n",
    "\n",
    "# This is the 2sum problem\n",
    "# Two thoughts:\n",
    "# Using dictionary to convert this to be 1sum problem, which should be linear time\n",
    "# Or we could use binary search, which is nlogn \n",
    "\n",
    "\n",
    "# Complete the icecreamParlor function below.\n",
    "def icecreamParlor(m, arr):\n",
    "    price_dict = {}\n",
    "    price_idx_dict ={}\n",
    "    for i,x in enumerate(arr):\n",
    "        if x not in price_dict:\n",
    "            price_dict[x] = 1\n",
    "            price_idx_dict[x] = [i]\n",
    "        else:\n",
    "            price_dict[x] += 1\n",
    "            price_idx_dict[x].append(i)\n",
    "    \n",
    "    # case 1 :two numbers are the same \n",
    "    if m % 2 ==0 and m/2 in price_dict and price_dict[m/2] >=2:\n",
    "        return([x+1 for x in sorted(price_idx_dict[m/2])])\n",
    "    # case 2: two numbers are distinct\n",
    "    # out = [ sort([v[0],price_idx_dict[m-k]])  for k,v in price_idx_dict.items() if m-k in price_idx_dict] # here m-k will != k\n",
    "    # return(out[0])\n",
    "\n",
    "    # since we know there is unique solution, we can use for loop instead and break the loop earlier\n",
    "    for k,v in price_idx_dict.items(): \n",
    "        if m-k in price_idx_dict:\n",
    "            return([x+1 for x in sorted([v[0], price_idx_dict[m-k][0]])])\n",
    "        \n",
    "            \n",
    "            \n",
    "    "
   ]
  },
  {
   "cell_type": "code",
   "execution_count": 1,
   "metadata": {},
   "outputs": [],
   "source": []
  },
  {
   "cell_type": "code",
   "execution_count": null,
   "metadata": {},
   "outputs": [],
   "source": []
  }
 ],
 "metadata": {
  "kernelspec": {
   "display_name": "Python [conda env:tensorflow]",
   "language": "python",
   "name": "conda-env-tensorflow-py"
  },
  "language_info": {
   "codemirror_mode": {
    "name": "ipython",
    "version": 3
   },
   "file_extension": ".py",
   "mimetype": "text/x-python",
   "name": "python",
   "nbconvert_exporter": "python",
   "pygments_lexer": "ipython3",
   "version": "3.5.5"
  }
 },
 "nbformat": 4,
 "nbformat_minor": 2
}
