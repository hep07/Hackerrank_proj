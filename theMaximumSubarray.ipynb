{
 "cells": [
  {
   "cell_type": "markdown",
   "metadata": {},
   "source": [
    "We define subsequence as any subset of an array. We define a subarray as a contiguous subsequence in an array.\n",
    "\n",
    "Given an array, find the maximum possible sum among:\n",
    "\n",
    "all nonempty subarrays.\n",
    "all nonempty subsequences.\n",
    "Print the two values as space-separated integers on one line.\n",
    "\n",
    "Note that empty subarrays/subsequences should not be considered."
   ]
  },
  {
   "cell_type": "markdown",
   "metadata": {},
   "source": [
    "Sample Input 0  \n",
    "\n",
    "2  \n",
    "4  \n",
    "1 2 3 4  \n",
    "6  \n",
    "2 -1 2 3 4 -5\n",
    "\n",
    "Sample Output 0  \n",
    "\n",
    "10 10  \n",
    "10 11  \n",
    "Explanation 0  \n",
    "\n",
    "In the first case: The maximum sum for both types of subsequences is just the sum of all the elements since they are all positive.\n",
    "\n",
    "In the second case: The subarray  is the subarray with the maximum sum, and  is the subsequence with the maximum sum.\n",
    "\n",
    "Sample Input 1   \n",
    "\n",
    "1  \n",
    "5  \n",
    "-2 -3 -1 -4 -6  \n",
    "Sample Output 1   \n",
    "\n",
    "-1 -1  \n",
    "Explanation 1  \n",
    "\n",
    "Since all of the numbers are negative, both the maximum subarray and maximum subsequence sums are made up of one element, ."
   ]
  },
  {
   "cell_type": "code",
   "execution_count": 10,
   "metadata": {},
   "outputs": [],
   "source": [
    "#!/bin/python3\n",
    "\n",
    "import math\n",
    "import os\n",
    "import random\n",
    "import re\n",
    "import sys\n",
    "\n",
    "# Complete the maxSubarray function below.\n",
    "def maxSubarray(arr):\n",
    "    # note that we are going for a linear time solution here. Bruteforce implementation will yield O(n^2) since there are o(n^2) subarrays in total\n",
    "    # We use DP here where the recursion is on the maximum subarray sum ending at position k, denote this as max_sub_ending[k]\n",
    "    # The DP recursion goes like:\n",
    "    # max(0, max_sub_ending[k-1]) + arr[k], essentially saying that if max_sub_ending[k-1] <0, we should just ignore them when considering the maximum subarray ending at [k]\n",
    "    \n",
    "    max_sub_ending = [arr[0]]\n",
    "            \n",
    "    for k in range(1, len(arr)):        \n",
    "        max_sub_ending.append(max([0,max_sub_ending[k-1]]) + arr[k])\n",
    "        \n",
    "    max_subarray = max(max_sub_ending)\n",
    "    \n",
    "    # for max subset, this is trivial in that we just loop through once and add positive numbers\n",
    "    max_subset_ending = [arr[0]]\n",
    "    for k in range(1, len(arr)):\n",
    "        if arr[k] > 0:\n",
    "            max_subset_ending.append(max([0,max_subset_ending[k-1]]) +arr[k])\n",
    "        elif max_subset_ending[k-1] > 0:\n",
    "            max_subset_ending.append(max_subset_ending[k-1])\n",
    "        else:\n",
    "            # if max_subset_ending[k-1]<=0 and arr[k]<= 0, we just pick the maximum of those two to be the max_subset_ending[k]\n",
    "            max_subset_ending.append(max([arr[k], max_subset_ending[k-1]]))\n",
    "    \n",
    "    max_subset = max_subset_ending[-1]\n",
    "            \n",
    "            \n",
    "    \n",
    "    return max_subarray, max_subset"
   ]
  },
  {
   "cell_type": "code",
   "execution_count": 13,
   "metadata": {},
   "outputs": [],
   "source": [
    "test_case= [2, -1, 2, 3, 4, -5] # we expect 10,11"
   ]
  },
  {
   "cell_type": "code",
   "execution_count": 12,
   "metadata": {},
   "outputs": [
    {
     "data": {
      "text/plain": [
       "(10, 11)"
      ]
     },
     "execution_count": 12,
     "metadata": {},
     "output_type": "execute_result"
    }
   ],
   "source": [
    "maxSubarray(test_case)"
   ]
  },
  {
   "cell_type": "code",
   "execution_count": null,
   "metadata": {},
   "outputs": [],
   "source": []
  },
  {
   "cell_type": "code",
   "execution_count": null,
   "metadata": {},
   "outputs": [],
   "source": []
  },
  {
   "cell_type": "code",
   "execution_count": null,
   "metadata": {},
   "outputs": [],
   "source": []
  }
 ],
 "metadata": {
  "kernelspec": {
   "display_name": "Python [conda env:tensorflow]",
   "language": "python",
   "name": "conda-env-tensorflow-py"
  },
  "language_info": {
   "codemirror_mode": {
    "name": "ipython",
    "version": 3
   },
   "file_extension": ".py",
   "mimetype": "text/x-python",
   "name": "python",
   "nbconvert_exporter": "python",
   "pygments_lexer": "ipython3",
   "version": "3.5.5"
  }
 },
 "nbformat": 4,
 "nbformat_minor": 2
}
