{
 "cells": [
  {
   "cell_type": "markdown",
   "metadata": {},
   "source": [
    "Quick Select implementation "
   ]
  },
  {
   "cell_type": "markdown",
   "metadata": {},
   "source": [
    "The below implementation fails the time tests at https://www.hackerrank.com/challenges/find-the-median/problem?h_r=internal-search . WTF?!"
   ]
  },
  {
   "cell_type": "code",
   "execution_count": 50,
   "metadata": {},
   "outputs": [],
   "source": [
    "import random\n",
    "\n",
    "# helper function partition\n",
    "\n",
    "def partition(arr, lo, hi):\n",
    "    \n",
    "    i = lo+1\n",
    "    j = hi\n",
    "    \n",
    "    # 0th position is the pivot, so we require hi>=lo+1 at least. In this case, i=j to start with, and we directly swap lo with i(j)\n",
    "    while True:\n",
    "        while arr[i] < arr[lo]:\n",
    "            if i== hi:\n",
    "                break\n",
    "            # here boundary check is not redundent since, we will check arr[i] and arr[hi+1] will yield error\n",
    "            i = i+1\n",
    "            # when we stop, either i reaches the end or partiion condition violated\n",
    "        while arr[j] > arr[lo]:\n",
    "            # For j no need to check boundary condition, since if arr[lo+1] > arr[lo], we reduce j to lo\n",
    "            j = j-1\n",
    "            \n",
    "        #print(i)\n",
    "        #print(j)\n",
    "        if i >= j:\n",
    "            break\n",
    "        temp = arr[j]\n",
    "        arr[j] = arr[i]\n",
    "        arr[i] = temp\n",
    "    temp = arr[j]\n",
    "    arr[j] = arr[lo]\n",
    "    arr[lo] = temp\n",
    "    return j\n",
    "\n",
    "# The above procedure works fine for lo +1 = hi case, 1) arr[lo] < arr[lo+1], after one round, j = lo, and i = lo+1; \n",
    "# 2) arr[lo] >= arr[lo+1], j =lo+1, i = lo+1 --> Exactlt this situation makes quick sort unstable\n"
   ]
  },
  {
   "cell_type": "code",
   "execution_count": 64,
   "metadata": {},
   "outputs": [],
   "source": [
    "def quickSelectKth(arr,k): # non recursive version \n",
    "    random.shuffle(arr)\n",
    "    #print(arr)\n",
    "    lo = 0\n",
    "    hi = len(arr) - 1\n",
    "    while lo < hi:\n",
    "        pivot_pos = partition(arr, lo, hi)\n",
    "        #print(pivot_pos)\n",
    "        if pivot_pos == k:\n",
    "            return arr[k]\n",
    "        if pivot_pos > k:\n",
    "            hi = pivot_pos - 1\n",
    "        if pivot_pos < k:\n",
    "            lo = pivot_pos + 1\n",
    "    \n",
    "    # if lo ==hi, then \n",
    "    return arr[k]\n",
    "\n",
    "def quickSelectKth_rec_helper(arr,k, lo, hi):\n",
    "    if lo >= hi:\n",
    "        # it must be the case k==lo==hi since k should be between \n",
    "        return arr[k]\n",
    "    # we can run partition if lo < hi \n",
    "    pivot_pos = partition(arr, lo, hi)\n",
    "    if k == pivot_pos:\n",
    "        return arr[k]\n",
    "    if k > pivot_pos:\n",
    "        return quickSelectKth_rec_helper(arr,k, pivot_pos+1, hi)\n",
    "    if k < pivot_pos:\n",
    "        return quickSelectKth_rec_helper(arr,k, lo, pivot_pos-1)\n",
    "    \n",
    "    \n",
    "        \n",
    "        \n",
    "\n",
    "def quickSelectKth_rec(arr,k): # non recursive version \n",
    "    # 0<=k<=len(arr)-1\n",
    "    random.shuffle(arr)\n",
    "    #print(arr)\n",
    "    lo = 0\n",
    "    hi = len(arr) - 1        \n",
    "    return quickSelectKth_rec_helper(arr,k, lo, hi)"
   ]
  },
  {
   "cell_type": "code",
   "execution_count": 65,
   "metadata": {},
   "outputs": [
    {
     "name": "stdout",
     "output_type": "stream",
     "text": [
      "1\n",
      "1\n",
      "2\n",
      "3\n",
      "6\n"
     ]
    }
   ],
   "source": [
    "print(quickSelectKth([1,3,2,6,1],0))\n",
    "print(quickSelectKth([1,3,2,6,1],1))\n",
    "print(quickSelectKth([1,3,2,6,1],2))\n",
    "print(quickSelectKth([1,3,2,6,1],3))\n",
    "print(quickSelectKth([1,3,2,6,1],4))"
   ]
  },
  {
   "cell_type": "code",
   "execution_count": 66,
   "metadata": {},
   "outputs": [
    {
     "name": "stdout",
     "output_type": "stream",
     "text": [
      "1\n",
      "1\n",
      "2\n",
      "3\n",
      "6\n"
     ]
    }
   ],
   "source": [
    "print(quickSelectKth_rec([1,3,2,6,1],0))\n",
    "print(quickSelectKth_rec([1,3,2,6,1],1))\n",
    "print(quickSelectKth_rec([1,3,2,6,1],2))\n",
    "print(quickSelectKth_rec([1,3,2,6,1],3))\n",
    "print(quickSelectKth_rec([1,3,2,6,1],4))"
   ]
  },
  {
   "cell_type": "code",
   "execution_count": 67,
   "metadata": {},
   "outputs": [],
   "source": [
    "# Median\n",
    "def FindMedian(arr):\n",
    "    k = int(len(arr)/2)\n",
    "    if len(arr) % 2 == 1:        \n",
    "        return quickSelectKth(arr, k)\n",
    "    else:\n",
    "        return (quickSelectKth(arr, k) + quickSelectKth(arr, k-1))/2.0\n",
    "        "
   ]
  },
  {
   "cell_type": "code",
   "execution_count": 68,
   "metadata": {},
   "outputs": [
    {
     "data": {
      "text/plain": [
       "2.5"
      ]
     },
     "execution_count": 68,
     "metadata": {},
     "output_type": "execute_result"
    }
   ],
   "source": [
    "FindMedian([1,2,3,4])"
   ]
  },
  {
   "cell_type": "code",
   "execution_count": 69,
   "metadata": {},
   "outputs": [
    {
     "data": {
      "text/plain": [
       "3"
      ]
     },
     "execution_count": 69,
     "metadata": {},
     "output_type": "execute_result"
    }
   ],
   "source": [
    "FindMedian([1,5,2,3,4])"
   ]
  },
  {
   "cell_type": "code",
   "execution_count": null,
   "metadata": {},
   "outputs": [],
   "source": []
  }
 ],
 "metadata": {
  "kernelspec": {
   "display_name": "Python 3",
   "language": "python",
   "name": "python3"
  },
  "language_info": {
   "codemirror_mode": {
    "name": "ipython",
    "version": 3
   },
   "file_extension": ".py",
   "mimetype": "text/x-python",
   "name": "python",
   "nbconvert_exporter": "python",
   "pygments_lexer": "ipython3",
   "version": "3.6.5"
  }
 },
 "nbformat": 4,
 "nbformat_minor": 2
}
