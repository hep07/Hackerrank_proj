{
 "cells": [
  {
   "cell_type": "markdown",
   "metadata": {},
   "source": [
    "Alice is a kindergarten teacher. She wants to give some candies to the children in her class.  All the children sit in a line and each of them has a rating score according to his or her performance in the class.  Alice wants to give at least 1 candy to each child. If two children sit next to each other, then the one with the higher rating must get more candies. Alice wants to minimize the total number of candies she must buy.\n",
    "\n",
    "For example, assume her students' ratings are [4, 6, 4, 5, 6, 2]. She gives the students candy in the following minimal amounts: [1, 2, 1, 2, 3, 1]. She must buy a minimum of 10 candies.\n",
    "\n",
    "Function Description\n",
    "\n",
    "Complete the candies function in the editor below. It must return the minimum number of candies Alice must buy.\n",
    "\n",
    "candies has the following parameter(s):\n",
    "\n",
    "n: an integer, the number of children in the class\n",
    "arr: an array of integers representing the ratings of each student"
   ]
  },
  {
   "cell_type": "code",
   "execution_count": 16,
   "metadata": {},
   "outputs": [],
   "source": [
    "#!/bin/python3\n",
    "\n",
    "import math\n",
    "import os\n",
    "import random\n",
    "import re\n",
    "import sys\n",
    "\n",
    "# Complete the candies function below.\n",
    "def candies(n, arr):\n",
    "    # We define local minimal as position k s.t. arr[k-1]>= arr[k] <= arr[k+1]\n",
    "    # all local minimal should have 1 \n",
    "    out = [1 for _ in range(len(arr))]\n",
    "\n",
    "    \n",
    "    # then we make sure condtion I holds\n",
    "    # Condition I: if arr[i]< arr[i+1], then out[i+1] > out[i] \n",
    "    for i in range(len(arr)-1):\n",
    "        if arr[i] < arr[i+1]:\n",
    "            out[i+1] = out[i] + 1\n",
    "    \n",
    "    # next we make sure if arr[i-1] > arr[i] but our current allocation out[i-1]<= out[i], then we need to make out[i-1] = out[i] + 1\n",
    "    # it is obvious that this second pass wont affect the validity of condition I, also, this will establish condition II:\n",
    "    # Condition II: if arr[i] > arr[i+1], then out[i] > out[i+1]\n",
    "    for i in range(len(arr)-1,0, -1):\n",
    "        if arr[i] < arr[i-1] and out[i] >= out[i-1]:\n",
    "            out[i-1] = out[i] + 1\n",
    "            \n",
    "    # after the above two passes, note that 1) local minimal should remain unchanged at 1 and 2) out array is a valid allocation\n",
    "    \n",
    "    # What we want to claim is that there is no better strategy than out[]. This is obvious too since we local minimal is kept at smallest number 1 and \n",
    "    # when enforcing Condition I and II, we use the minimal increment 1\n",
    "    \n",
    "    \n",
    "    \n",
    "#     print(\"output is \")\n",
    "#     print(out)\n",
    "    return(sum(out))\n",
    "        \n"
   ]
  },
  {
   "cell_type": "code",
   "execution_count": 12,
   "metadata": {},
   "outputs": [],
   "source": [
    "testcase_input = [2,\n",
    "4,\n",
    "2,\n",
    "6,\n",
    "1,\n",
    "7,\n",
    "8,\n",
    "9,\n",
    "2,\n",
    "1]"
   ]
  },
  {
   "cell_type": "code",
   "execution_count": 13,
   "metadata": {},
   "outputs": [],
   "source": [
    "testcase_output = 19"
   ]
  },
  {
   "cell_type": "code",
   "execution_count": 15,
   "metadata": {},
   "outputs": [
    {
     "data": {
      "text/plain": [
       "True"
      ]
     },
     "execution_count": 15,
     "metadata": {},
     "output_type": "execute_result"
    }
   ],
   "source": [
    "candies(arr= testcase_input, n= 10) == testcase_output"
   ]
  },
  {
   "cell_type": "code",
   "execution_count": null,
   "metadata": {},
   "outputs": [],
   "source": []
  },
  {
   "cell_type": "code",
   "execution_count": null,
   "metadata": {},
   "outputs": [],
   "source": []
  }
 ],
 "metadata": {
  "kernelspec": {
   "display_name": "Python [conda env:tensorflow]",
   "language": "python",
   "name": "conda-env-tensorflow-py"
  },
  "language_info": {
   "codemirror_mode": {
    "name": "ipython",
    "version": 3
   },
   "file_extension": ".py",
   "mimetype": "text/x-python",
   "name": "python",
   "nbconvert_exporter": "python",
   "pygments_lexer": "ipython3",
   "version": "3.5.5"
  }
 },
 "nbformat": 4,
 "nbformat_minor": 2
}
