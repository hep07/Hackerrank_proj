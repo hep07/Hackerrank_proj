{
 "cells": [
  {
   "cell_type": "markdown",
   "metadata": {},
   "source": [
    "We implement from scratch a indexed heap data structure used in DijkstraShortestPaths algorithm since it needs to modify the priority of a certain node "
   ]
  },
  {
   "cell_type": "markdown",
   "metadata": {},
   "source": [
    "Passed all test cases at this hackerrank challenge https://www.hackerrank.com/challenges/dijkstrashortreach/problem?h_r=internal-search  \n",
    "The key is all edge weights are non-negative"
   ]
  },
  {
   "cell_type": "code",
   "execution_count": 58,
   "metadata": {},
   "outputs": [],
   "source": [
    "import time\n"
   ]
  },
  {
   "cell_type": "code",
   "execution_count": null,
   "metadata": {},
   "outputs": [],
   "source": []
  },
  {
   "cell_type": "code",
   "execution_count": null,
   "metadata": {},
   "outputs": [],
   "source": []
  },
  {
   "cell_type": "code",
   "execution_count": null,
   "metadata": {},
   "outputs": [],
   "source": []
  },
  {
   "cell_type": "code",
   "execution_count": null,
   "metadata": {},
   "outputs": [],
   "source": []
  },
  {
   "cell_type": "code",
   "execution_count": null,
   "metadata": {},
   "outputs": [],
   "source": []
  },
  {
   "cell_type": "code",
   "execution_count": null,
   "metadata": {},
   "outputs": [],
   "source": []
  },
  {
   "cell_type": "code",
   "execution_count": null,
   "metadata": {},
   "outputs": [],
   "source": []
  },
  {
   "cell_type": "code",
   "execution_count": null,
   "metadata": {},
   "outputs": [],
   "source": []
  },
  {
   "cell_type": "code",
   "execution_count": 39,
   "metadata": {},
   "outputs": [],
   "source": [
    "# Create graph, only keeping the shortest edge if there are multiple e:v->w \n",
    "# Since the hackerrank problem is undirected \n",
    "def create_graph(n, edges):\n",
    "    adj_list = [{} for _ in range(n)]\n",
    "    for s,e,w in edges:\n",
    "        # input data is base-1 index\n",
    "        s = s - 1\n",
    "        e = e - 1\n",
    "        if e in adj_list[s]:\n",
    "            adj_list[s][e] = min([adj_list[s][e], w])\n",
    "            adj_list[e][s] = min([adj_list[e][s], w])\n",
    "        else:\n",
    "            adj_list[s][e] = w\n",
    "            adj_list[e][s] = w\n",
    "    return adj_list"
   ]
  },
  {
   "cell_type": "code",
   "execution_count": null,
   "metadata": {},
   "outputs": [],
   "source": []
  },
  {
   "cell_type": "code",
   "execution_count": null,
   "metadata": {},
   "outputs": [],
   "source": []
  },
  {
   "cell_type": "code",
   "execution_count": 40,
   "metadata": {},
   "outputs": [],
   "source": [
    "# Naive version without using heap\n",
    "def shortestReach_naive(n, edges, s):\n",
    "    # s is starting from 1\n",
    "    s = s -1\n",
    "    graph = create_graph(n, edges)\n",
    "    distTo = [-1 for _ in range(n)] # -1 denotes unreachable \n",
    "    \n",
    "    array = set()\n",
    "    \n",
    "    # start from the source\n",
    "    distTo[s] = 0.0 \n",
    "    array.add(s)    \n",
    "    while len(array)>0:\n",
    "        # figure out the smallest number\n",
    "        min_dist = None\n",
    "        argmin_dist = None\n",
    "        for k in array:\n",
    "            if min_dist is None or min_dist > distTo[k]:\n",
    "                min_dist = distTo[k]\n",
    "                argmin_dist = k\n",
    "        \n",
    "        v = argmin_dist\n",
    "        \n",
    "        array.discard(v)\n",
    "        \n",
    "        for e in graph[v]:\n",
    "            # relax edge e\n",
    "            if distTo[e] == -1  or distTo[e] > distTo[v] + graph[v][e]:\n",
    "                # previsouly discarded v will never become e here since those v are finalized solution and due to positive edge, we cannot find an improvement                \n",
    "                distTo[e] = distTo[v] + graph[v][e]\n",
    "                if e not in array:\n",
    "                    array.add(e)\n",
    "    \n",
    "    # print out solution by order ,ignoring s\n",
    "    out = distTo[:s] + distTo[(s+1):]\n",
    "    \n",
    "    # convert out to integer\n",
    "    out = [int(temp) for temp in out]\n",
    "    \n",
    "    return(out)\n",
    "                \n",
    "        \n",
    "            \n",
    "    "
   ]
  },
  {
   "cell_type": "code",
   "execution_count": 59,
   "metadata": {
    "scrolled": true
   },
   "outputs": [
    {
     "name": "stdout",
     "output_type": "stream",
     "text": [
      "2.69574236869812\n"
     ]
    }
   ],
   "source": [
    "fptr = open(\"./data/DijkstraShortestPaths_testcase7\", 'r')\n",
    "\n",
    "t = int(fptr.readline().rstrip())\n",
    "\n",
    "for t_itr in range(t):\n",
    "    nm = fptr.readline().rstrip().split(\" \")\n",
    "\n",
    "    n = int(nm[0])\n",
    "\n",
    "    m = int(nm[1])\n",
    "\n",
    "    edges = []\n",
    "\n",
    "    for i in range(m):\n",
    "\n",
    "        edges.append(list(map(int, fptr.readline().rstrip().split(\" \"))))\n",
    "\n",
    "    s = int(fptr.readline().rstrip())\n",
    "    \n",
    "    # time the shortest path runtime \n",
    "    start_time = time.time()\n",
    "    result = shortestReach_naive(n, edges, s)\n",
    "    shortestPathsRuntime = time.time()- start_time\n",
    "fptr.close()\n",
    "print(shortestPathsRuntime)"
   ]
  },
  {
   "cell_type": "markdown",
   "metadata": {},
   "source": [
    "Testcase 7 from Hackerrank"
   ]
  },
  {
   "cell_type": "code",
   "execution_count": null,
   "metadata": {},
   "outputs": [],
   "source": [
    "with open(\"./data/DijkstraShortestPaths_testcase7_sol\", 'r') as f:\n",
    "    solution = list(map(int, f.readline().rstrip().split(\" \")))"
   ]
  },
  {
   "cell_type": "code",
   "execution_count": 51,
   "metadata": {},
   "outputs": [
    {
     "data": {
      "text/plain": [
       "True"
      ]
     },
     "execution_count": 51,
     "metadata": {},
     "output_type": "execute_result"
    }
   ],
   "source": [
    "len(solution) == len(result)"
   ]
  },
  {
   "cell_type": "code",
   "execution_count": 55,
   "metadata": {},
   "outputs": [
    {
     "name": "stdout",
     "output_type": "stream",
     "text": [
      "correct!\n"
     ]
    }
   ],
   "source": [
    "for i in range(len(solution)):\n",
    "    wrong = 0 \n",
    "    if solution[i]!= result[i]:\n",
    "        print(str(i) + \"th solution is wrong!\")\n",
    "        print(solution[i])\n",
    "        print(result[i])\n",
    "        wrong += 1\n",
    "if wrong ==0:\n",
    "    print(\"correct!\")\n"
   ]
  },
  {
   "cell_type": "markdown",
   "metadata": {},
   "source": [
    "We next try to improve the runtime from O(V^2) to O(Elog(V)) using indexed priority queue implemented via binary heap"
   ]
  },
  {
   "cell_type": "code",
   "execution_count": 71,
   "metadata": {},
   "outputs": [],
   "source": [
    "class IndexPQ():\n",
    "    # MaxPQ\n",
    "    def __init__(self, maxN):\n",
    "        # maxN is the maximum number of objects we are dealing with. \n",
    "        # We represent the maxN objects as 0, 1, ..., maxN - 1. We call this object index which starts from 0 \n",
    "        self.pq = [None for _ in range(maxN + 1)] # the priority queue using 1-base index\n",
    "        self.pq[0] = 0 # 0th position is used for actual size of pq used right now \n",
    "        self.qp = [None for _ in range(maxN)] # from object index to pq positions \n",
    "        self.Keys = [None for _ in range(maxN)] # from object index to its key, which decides priority \n",
    "    \n",
    "    def size(self):\n",
    "        return self.pq[0]\n",
    "    \n",
    "    # less \n",
    "    def less(self, pos_idx1, pos_idx2):\n",
    "        return self.Keys[self.pq[pos_idx1]] < self.Keys[self.pq[pos_idx2]]\n",
    "    \n",
    "    \n",
    "    \n",
    "    def exch(self, pos_idx1, pos_idx2):\n",
    "        temp =self.pq[pos_idx1]\n",
    "        self.pq[pos_idx1] = self.pq[pos_idx2]\n",
    "        self.pq[pos_idx2] = temp\n",
    "        \n",
    "        self.qp[self.pq[pos_idx1]] = pos_idx1\n",
    "        self.qp[self.pq[pos_idx2]] = pos_idx2\n",
    "    \n",
    "    # contain\n",
    "    def contain(self, obj_idx):\n",
    "        return(self.qp[obj_idx] is not None)\n",
    "        \n",
    "    # sink operation \n",
    "    def sink(self, pos_idx):\n",
    "        \n",
    "        \n",
    "        while pos_idx * 2 <= self.pq[0]:\n",
    "            \n",
    "            \n",
    "            pq_child_pos = 2*pos_idx\n",
    "            if self.pq[0] >= pq_child_pos + 1 and self.less(pq_child_pos, pq_child_pos + 1):\n",
    "                pq_child_pos = pq_child_pos + 1\n",
    "            # at this point pq_child_pos is the larger child of the two children nodes of pq_pos\n",
    "            if ~self.less(pos_idx, pq_child_pos):\n",
    "                # we dont have to sink anymore\n",
    "                break\n",
    "            self.exch(pos_idx, pq_child_pos)\n",
    "            \n",
    "            # we dont have change obj_idx anymore, since that is still the index of the object we want to sink\n",
    "            \n",
    "     # swim operation \n",
    "    def swim(self, pos_idx):                \n",
    "        while int(pos_idx/2) > 1 and self.less(int(pos_idx/2), pos_idx) :\n",
    "            self.exch(int(pos_idx/2), pos_idx)\n",
    "            pos_idx = int(pos_idx/2) \n",
    "            \n",
    "    \n",
    "    def insert(self, idx_a, key_a):\n",
    "        # insert key_a\n",
    "        if self.contain(idx_a):\n",
    "            print(\"PQ has this object already, error!\")\n",
    "            return        \n",
    "        self.pq[0] += 1\n",
    "        self.pq[self.pq[0]] = idx_a\n",
    "        self.qp[idx_a] = self.pq[0]\n",
    "        self.Keys[idx_a] = key_a\n",
    "        \n",
    "        # maintain heap property\n",
    "        self.swim(self.pq[0])\n",
    "    \n",
    "    def queryMaxIndex(self):\n",
    "        return self.pq[1]\n",
    "    \n",
    "    def queryMaxKey(self):\n",
    "        return self.Keys[self.queryMaxIndex()]\n",
    "    \n",
    "    \n",
    "    def delMax(self):\n",
    "        # swap max and the last item, decrease size\n",
    "        maxIndex = self.queryMaxIndex()\n",
    "        maxKey = self.queryMaxKey()\n",
    "        self.exch(1, self.pq[0])\n",
    "        # delete the last item from the queue\n",
    "        self.pq[self.pq[0]] = None\n",
    "        self.qp[maxIndex] = None\n",
    "        self.Keys[maxIndex] = None        \n",
    "        self.pq[0] -= 1\n",
    "        \n",
    "        # Regain heap property \n",
    "        self.sink(1)\n",
    "        \n",
    "        return maxIndex, maxKey\n",
    "    \n",
    "    def changePriority(self, index_a, new_key_a):\n",
    "        if self.Keys[index_a] > new_key_a:\n",
    "            # decrease key\n",
    "            self.Keys[index_a] = new_key_a\n",
    "            self.sink(self.qp[index_a])\n",
    "        if self.Keys[index_a] < new_key_a:\n",
    "            # increase key\n",
    "            self.Keys[index_a] = new_key_a\n",
    "            self.swim(self.qp[index_a])\n",
    "        "
   ]
  },
  {
   "cell_type": "code",
   "execution_count": 72,
   "metadata": {},
   "outputs": [],
   "source": [
    "def shortestReach_IndexPQ(n, edges, s):\n",
    "    # s is starting from 1\n",
    "    s = s -1\n",
    "    graph = create_graph(n, edges)\n",
    "    distTo = [-1 for _ in range(n)] # -1 denotes unreachable     \n",
    "    maxPQ = IndexPQ(n)\n",
    "    \n",
    "    # start from the source\n",
    "    distTo[s] = 0.0 \n",
    "    maxPQ.insert(s, 0.0)    \n",
    "    while maxPQ.size()>0:\n",
    "        # figure out next point on the solution tree\n",
    "        argmin_dist, min_dist = maxPQ.delMax()\n",
    "        min_dist = - min_dist \n",
    "        # The discarded node is added on the final solution tree and is finalized\n",
    "        # this min_dist should equal to the current corresponding item on distTo and this will never be modified again as long as edge weights are >=0\n",
    "        \n",
    "        v = argmin_dist\n",
    "        \n",
    "        for e in graph[v]:\n",
    "            # relax edge e\n",
    "            if distTo[e] == -1  or distTo[e] > distTo[v] + graph[v][e]:\n",
    "                # previsouly discarded v will never become e here since those v are finalized solution and due to positive edge, we cannot find an improvement                \n",
    "                distTo[e] = distTo[v] + graph[v][e]\n",
    "                if maxPQ.contain(e):\n",
    "                    maxPQ.changePriority(e, -distTo[e])\n",
    "                else:\n",
    "                    maxPQ.insert(e, -distTo[e])\n",
    "    \n",
    "    # print out solution by order ,ignoring s\n",
    "    out = distTo[:s] + distTo[(s+1):]\n",
    "    \n",
    "    # convert out to integer\n",
    "    out = [int(temp) for temp in out]\n",
    "    \n",
    "    return(out)\n",
    "                "
   ]
  },
  {
   "cell_type": "code",
   "execution_count": 77,
   "metadata": {},
   "outputs": [
    {
     "name": "stdout",
     "output_type": "stream",
     "text": [
      "2.646946668624878\n",
      "2.5252461433410645\n"
     ]
    }
   ],
   "source": [
    "fptr = open(\"./data/DijkstraShortestPaths_testcase7\", 'r')\n",
    "\n",
    "t = int(fptr.readline().rstrip())\n",
    "\n",
    "for t_itr in range(t):\n",
    "    nm = fptr.readline().rstrip().split(\" \")\n",
    "\n",
    "    n = int(nm[0])\n",
    "\n",
    "    m = int(nm[1])\n",
    "\n",
    "    edges = []\n",
    "\n",
    "    for i in range(m):\n",
    "\n",
    "        edges.append(list(map(int, fptr.readline().rstrip().split(\" \"))))\n",
    "\n",
    "    s = int(fptr.readline().rstrip())\n",
    "    \n",
    "    # time the shortest path runtime \n",
    "    start_time = time.time()\n",
    "    result_naive = shortestReach_naive(n, edges, s)\n",
    "    shortestPathsRuntime_naive = time.time()- start_time\n",
    "    \n",
    "    start_time = time.time()\n",
    "    result_IndexPQ = shortestReach_IndexPQ(n, edges, s)\n",
    "    shortestPathsRuntime_IndexPQ = time.time()- start_time\n",
    "fptr.close()\n",
    "print(shortestPathsRuntime_naive)\n",
    "print(shortestPathsRuntime_IndexPQ)"
   ]
  },
  {
   "cell_type": "markdown",
   "metadata": {},
   "source": [
    "The difference in time is actually not that big. As a result the hackerrank test still times out. But at least for the only timeout case, we could check that both our implementation gives the correct results. \n",
    "\n",
    "Check whether our indexPQ solutino is correct or not"
   ]
  },
  {
   "cell_type": "code",
   "execution_count": 76,
   "metadata": {},
   "outputs": [
    {
     "name": "stdout",
     "output_type": "stream",
     "text": [
      "correct!\n"
     ]
    }
   ],
   "source": [
    "for i in range(len(solution)):\n",
    "    wrong = 0 \n",
    "    if solution[i]!= result_IndexPQ[i]:\n",
    "        print(str(i) + \"th solution is wrong!\")\n",
    "        print(solution[i])\n",
    "        print(result_IndexPQ[i])\n",
    "        wrong += 1\n",
    "if wrong ==0:\n",
    "    print(\"correct!\")"
   ]
  },
  {
   "cell_type": "code",
   "execution_count": null,
   "metadata": {},
   "outputs": [],
   "source": []
  },
  {
   "cell_type": "code",
   "execution_count": null,
   "metadata": {},
   "outputs": [],
   "source": []
  },
  {
   "cell_type": "code",
   "execution_count": null,
   "metadata": {},
   "outputs": [],
   "source": []
  }
 ],
 "metadata": {
  "kernelspec": {
   "display_name": "Python [default]",
   "language": "python",
   "name": "python3"
  },
  "language_info": {
   "codemirror_mode": {
    "name": "ipython",
    "version": 3
   },
   "file_extension": ".py",
   "mimetype": "text/x-python",
   "name": "python",
   "nbconvert_exporter": "python",
   "pygments_lexer": "ipython3",
   "version": "3.6.4"
  }
 },
 "nbformat": 4,
 "nbformat_minor": 2
}
