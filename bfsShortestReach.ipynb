{
 "cells": [
  {
   "cell_type": "markdown",
   "metadata": {},
   "source": [
    "https://www.hackerrank.com/challenges/bfsshortreach/problem"
   ]
  },
  {
   "cell_type": "code",
   "execution_count": null,
   "metadata": {},
   "outputs": [],
   "source": [
    "#!/bin/python3\n",
    "\n",
    "import math\n",
    "import os\n",
    "import random\n",
    "import re\n",
    "import sys\n",
    "\n",
    "# Complete the bfs function below.\n",
    "def bfs(n, m, edges, s):\n",
    "    # create adj list representation of the graph using dictionary\n",
    "    adj_list = {x:[] for x in range(n)}    \n",
    "    for v in edges:\n",
    "        adj_list[v[0]-1].append(v[1]-1)\n",
    "        adj_list[v[1]-1].append(v[0]-1) \n",
    "    \n",
    "    # since the graph is undirected, we could just do a bfs starting from node s and update the distance array whenever we reach an unvisited node\n",
    "    dist = dict()\n",
    "    bfs_queue = [] # this array stores a tuple: (node, distance to s)\n",
    "    bfs_queue.append((s-1,0))\n",
    "    \n",
    "    while len(bfs_queue) > 0:\n",
    "        this_node, this_dist = bfs_queue.pop(0)\n",
    "        # print(\"pop\")\n",
    "        # print(this_node)\n",
    "        # print(this_dist)\n",
    "        nodes_to_add = [(j, this_dist+1) for j in adj_list[this_node] if j not in dist]\n",
    "        for new_node, new_dist in nodes_to_add:\n",
    "            dist[new_node] = new_dist\n",
    "        bfs_queue = bfs_queue + nodes_to_add\n",
    "    \n",
    "    out = [-1 for x in range(n)]\n",
    "    \n",
    "    for k,v in dist.items():\n",
    "        out[k] = v*6 # all edges have weight 6 \n",
    "    \n",
    "    # leave out sth term\n",
    "    \n",
    "    out = out[:(s-1)] + out[s:]\n",
    "    return(out)\n",
    "        \n",
    "        \n",
    "\n",
    "if __name__ == '__main__':\n",
    "    fptr = open(os.environ['OUTPUT_PATH'], 'w')\n",
    "\n",
    "    q = int(input())\n",
    "\n",
    "    for q_itr in range(q):\n",
    "        nm = input().split()\n",
    "\n",
    "        n = int(nm[0])\n",
    "\n",
    "        m = int(nm[1])\n",
    "\n",
    "        edges = []\n",
    "\n",
    "        for _ in range(m):\n",
    "            edges.append(list(map(int, input().rstrip().split())))\n",
    "\n",
    "        s = int(input())\n",
    "\n",
    "        result = bfs(n, m, edges, s)\n",
    "\n",
    "        fptr.write(' '.join(map(str, result)))\n",
    "        fptr.write('\\n')\n",
    "\n",
    "    fptr.close()\n"
   ]
  }
 ],
 "metadata": {
  "kernelspec": {
   "display_name": "Python [conda env:tensorflow]",
   "language": "python",
   "name": "conda-env-tensorflow-py"
  },
  "language_info": {
   "codemirror_mode": {
    "name": "ipython",
    "version": 3
   },
   "file_extension": ".py",
   "mimetype": "text/x-python",
   "name": "python",
   "nbconvert_exporter": "python",
   "pygments_lexer": "ipython3",
   "version": "3.5.5"
  }
 },
 "nbformat": 4,
 "nbformat_minor": 2
}
