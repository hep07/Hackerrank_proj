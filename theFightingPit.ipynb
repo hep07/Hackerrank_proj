{
 "cells": [
  {
   "cell_type": "markdown",
   "metadata": {},
   "source": [
    "https://www.hackerrank.com/challenges/fighting-pits/problem"
   ]
  },
  {
   "cell_type": "markdown",
   "metadata": {},
   "source": [
    "we can prove that if its team x's turn to attack and total strength of team_x >= total strength of team_y, then x wins!  \n",
    "\n",
    "To see this, note that if wealth(x) >= wealth(y) and x is attacking, after x attacks, y cannot win the game during his attack and team x is guarunteed to have another chance to attack; also, the invariance maintains that wealth(x) still >= wealth(y). As a result, y will never win. However the game is bound to finish in finite rounds. Therefore x wins. "
   ]
  },
  {
   "cell_type": "code",
   "execution_count": 70,
   "metadata": {},
   "outputs": [],
   "source": [
    "#!/bin/python3\n",
    "\n",
    "import os\n",
    "import sys\n",
    "\n",
    "def matchUp_total(team, x, y):\n",
    "    #print(str(x) + \" \" + str(y))\n",
    "    # we can prove that if its team x's turn to attack and total strength of team_x >= total strength of team_y, then x wins! \n",
    "    # team stores cumsum \n",
    "    \n",
    "    \n",
    "    # matching up team x against team y \n",
    "    # return the winning team \n",
    "    team_x = team[x]\n",
    "    team_y = team[y]        \n",
    "    #print(team_x)\n",
    "    #print(team_y)\n",
    "    \n",
    "    if len(team_x) == 0:\n",
    "        return(y)\n",
    "    if len(team_y) == 0:\n",
    "        return(x)\n",
    "    \n",
    "    x_attacker = len(team_x) - 1\n",
    "    y_attacker = len(team_y) - 1\n",
    "    \n",
    "    \n",
    "\n",
    "    while True:\n",
    "        if team_x[x_attacker] >= team_y[y_attacker]:\n",
    "            # y is wiped out\n",
    "            winner = x\n",
    "            break\n",
    "        if x_attacker > 0:\n",
    "            attacker_x_str = team_x[x_attacker] - team_x[x_attacker-1]\n",
    "        else:\n",
    "            attacker_x_str = team_x[x_attacker] \n",
    "        \n",
    "        if attacker_x_str >= y_attacker + 1:\n",
    "            # y is wiped out\n",
    "            winner = x\n",
    "            break\n",
    "        \n",
    "        # y survives, now its y's turn to attack            \n",
    "        y_attacker = (y_attacker+1 ) -  attacker_x_str - 1\n",
    "        #print(y_attacker)\n",
    "        if team_x[x_attacker] <= team_y[y_attacker]:\n",
    "            # x is wiped out for sure \n",
    "            winner = y\n",
    "            break\n",
    "        if y_attacker > 0:\n",
    "            attacker_y_str = team_y[y_attacker] - team_y[y_attacker-1]\n",
    "        else:\n",
    "            attacker_y_str = team_y[y_attacker]\n",
    "        \n",
    "        \n",
    "        if attacker_y_str >= x_attacker + 1:\n",
    "            winner = y\n",
    "            break\n",
    "        x_attacker = (x_attacker+1 ) -  attacker_y_str - 1\n",
    "        \n",
    "        \n",
    "    \n",
    "    return(winner)\n",
    "\n",
    "\n",
    "\n",
    "def fightingPits(k, fighters, queries):\n",
    "    #\n",
    "    # Write your code here.\n",
    "    #\n",
    "    \n",
    "    # process fighters\n",
    "    team = {}\n",
    "    for i in range(1, k +1):\n",
    "        team[i] = []\n",
    "    \n",
    "    for fighter in fighters:\n",
    "        #newitem = team[fighter[1]][-1] + fighter[0]\n",
    "        team[fighter[1]].append(fighter[0])\n",
    "        \n",
    "    for k,v in team.items():\n",
    "        sorted_v = [0] + sorted(v)\n",
    "        # get cumsum\n",
    "        for i in range(1,len(sorted_v)):\n",
    "            sorted_v[i] = sorted_v[i] + sorted_v[i-1]\n",
    "                \n",
    "        team[k] = sorted_v[1:]\n",
    "    \n",
    "    #count = 0 \n",
    "    \n",
    "    # process queries \n",
    "    out = []\n",
    "    for query in queries:\n",
    "        if query[0]==1:\n",
    "            if len(team[query[2]]) > 0:\n",
    "                newitem = team[query[2]][-1] + query[1]\n",
    "            else:\n",
    "                newitem = query[1]\n",
    "            team[query[2]].append(newitem) \n",
    "            # team[query[2]] = sorted(team[query[2]]) this line is not needed since new fighter is always the strongest \n",
    "        else:\n",
    "            #count += 1\n",
    "            winner = matchUp_total(team, query[1], query[2])\n",
    "#             if count == 102:\n",
    "#                 print(query[1])\n",
    "#                 print(query[2])\n",
    "#                 print(team[query[1]])\n",
    "#                 print(team[query[2]])\n",
    "#                 print(winner)\n",
    "            out.append(winner)\n",
    "    \n",
    "    return(out)"
   ]
  },
  {
   "cell_type": "code",
   "execution_count": 71,
   "metadata": {},
   "outputs": [],
   "source": [
    "# read testcase\n",
    "with open(\"./data/fightingPit_testcase3\") as f:\n",
    "    nkq = f.readline().split()\n",
    "    n = int(nkq[0])\n",
    "\n",
    "    k = int(nkq[1])\n",
    "\n",
    "    q = int(nkq[2])\n",
    "\n",
    "    fighters = []\n",
    "    \n",
    "    for _ in range(n):\n",
    "        fighters.append(list(map(int, f.readline().rstrip().split())))\n",
    "\n",
    "    queries = []\n",
    "\n",
    "    for _ in range(q):\n",
    "        queries.append(list(map(int, f.readline().rstrip().split())))\n",
    "\n",
    "\n",
    "# run our code\n",
    "result = fightingPits(k, fighters, queries)"
   ]
  },
  {
   "cell_type": "code",
   "execution_count": 72,
   "metadata": {},
   "outputs": [],
   "source": [
    "with open(\"./data/fightingPit_testcase3_sol\") as f:\n",
    "    res = f.readlines()#.rstrip()#.split() # list(map(int, f.readline().rstrip().split()))\n",
    "\n"
   ]
  },
  {
   "cell_type": "code",
   "execution_count": 73,
   "metadata": {},
   "outputs": [
    {
     "data": {
      "text/plain": [
       "3"
      ]
     },
     "execution_count": 73,
     "metadata": {},
     "output_type": "execute_result"
    }
   ],
   "source": [
    "result[101]"
   ]
  },
  {
   "cell_type": "code",
   "execution_count": 74,
   "metadata": {},
   "outputs": [
    {
     "data": {
      "text/plain": [
       "3"
      ]
     },
     "execution_count": 74,
     "metadata": {},
     "output_type": "execute_result"
    }
   ],
   "source": [
    "sol[101]"
   ]
  },
  {
   "cell_type": "code",
   "execution_count": null,
   "metadata": {},
   "outputs": [],
   "source": []
  },
  {
   "cell_type": "code",
   "execution_count": null,
   "metadata": {},
   "outputs": [],
   "source": []
  },
  {
   "cell_type": "code",
   "execution_count": null,
   "metadata": {},
   "outputs": [],
   "source": []
  },
  {
   "cell_type": "code",
   "execution_count": null,
   "metadata": {},
   "outputs": [],
   "source": []
  }
 ],
 "metadata": {
  "kernelspec": {
   "display_name": "Python [default]",
   "language": "python",
   "name": "python3"
  },
  "language_info": {
   "codemirror_mode": {
    "name": "ipython",
    "version": 3
   },
   "file_extension": ".py",
   "mimetype": "text/x-python",
   "name": "python",
   "nbconvert_exporter": "python",
   "pygments_lexer": "ipython3",
   "version": "3.6.4"
  }
 },
 "nbformat": 4,
 "nbformat_minor": 2
}
