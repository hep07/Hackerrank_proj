{
 "cells": [
  {
   "cell_type": "markdown",
   "metadata": {},
   "source": [
    "https://www.hackerrank.com/challenges/pairs/problem"
   ]
  },
  {
   "cell_type": "code",
   "execution_count": null,
   "metadata": {},
   "outputs": [],
   "source": [
    "#!/bin/python3\n",
    "\n",
    "import math\n",
    "import os\n",
    "import random\n",
    "import re\n",
    "import sys\n",
    "\n",
    "def pairs_naive(k, arr):\n",
    "    count = 0\n",
    "    # naive n^2 solution \n",
    "    for i in range(len(arr)-1):\n",
    "        for j in range(i+1, len(arr)):\n",
    "            if math.fabs(arr[i] - arr[j])== k:\n",
    "                count += 1\n",
    "    return(count)\n",
    "\n",
    "# two pointer approach\n",
    "def pairs(k, arr):\n",
    "    i = 0\n",
    "    j = 1\n",
    "    count = 0\n",
    "    arr.sort()\n",
    "    while j < len(arr):\n",
    "        diff = arr[j] - arr[i]\n",
    "        if diff == k:\n",
    "            count += 1\n",
    "            j += 1\n",
    "        elif diff < k:\n",
    "            j += 1\n",
    "        elif diff >k:\n",
    "            i += 1\n",
    "    return(count)\n",
    "\n",
    "\n"
   ]
  }
 ],
 "metadata": {
  "kernelspec": {
   "display_name": "Python [conda env:tensorflow]",
   "language": "python",
   "name": "conda-env-tensorflow-py"
  },
  "language_info": {
   "codemirror_mode": {
    "name": "ipython",
    "version": 3
   },
   "file_extension": ".py",
   "mimetype": "text/x-python",
   "name": "python",
   "nbconvert_exporter": "python",
   "pygments_lexer": "ipython3",
   "version": "3.5.5"
  }
 },
 "nbformat": 4,
 "nbformat_minor": 2
}
