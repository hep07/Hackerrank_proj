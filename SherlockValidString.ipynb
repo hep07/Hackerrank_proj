{
 "cells": [
  {
   "cell_type": "code",
   "execution_count": null,
   "metadata": {},
   "outputs": [],
   "source": [
    "#!/bin/python3\n",
    "#import numpy as np\n",
    "import math\n",
    "import os\n",
    "import random\n",
    "import re\n",
    "import sys\n",
    "from collections import Counter\n",
    "# Complete the isValid function below.\n",
    "def isValid(s):\n",
    "    char_count = Counter(s)\n",
    "    char_count_count = Counter(char_count.values())\n",
    "    if len(char_count_count)==1:\n",
    "        return(\"YES\")    \n",
    "    elif len(char_count_count)==2:\n",
    "        temp_count_count = char_count_count.values()\n",
    "        temp_count = list(char_count_count.keys())\n",
    "        if temp_count[0] < temp_count[1]:\n",
    "            min_temp_count = temp_count[0]\n",
    "            max_temp_count = temp_count[1]\n",
    "        else:\n",
    "            min_temp_count = temp_count[1]\n",
    "            max_temp_count = temp_count[0]\n",
    "        \n",
    "        # if there are two unique counts, there are two situations that the string is valid\n",
    "        \n",
    "        # one is that one unique count is 1 (appearing once) and the count's count is also 1 (one letter); then we could just remove this letter at its only appearing location\n",
    "        # the other is that the two unique count has +1/-1 relations and the count's count for the larger unique count ==1 (only one letter). Then there are only one letter appearing once more than all other letters. \n",
    "        if (char_count_count[max_temp_count] == 1 and  max_temp_count - min_temp_count == 1) or ( char_count_count[min_temp_count] == 1 and min_temp_count == 1 ):\n",
    "            return(\"YES\")\n",
    "    return(\"NO\")\n",
    "        \n",
    "   \n"
   ]
  },
  {
   "cell_type": "code",
   "execution_count": null,
   "metadata": {},
   "outputs": [],
   "source": [
    "fptr = open(os.environ['OUTPUT_PATH'], 'w')\n",
    "\n",
    "s = input()\n",
    "\n",
    "result = isValid(s)\n",
    "\n",
    "fptr.write(result + '\\n')\n",
    "\n",
    "fptr.close()"
   ]
  }
 ],
 "metadata": {
  "kernelspec": {
   "display_name": "Python [conda env:tensorflow]",
   "language": "python",
   "name": "conda-env-tensorflow-py"
  },
  "language_info": {
   "codemirror_mode": {
    "name": "ipython",
    "version": 3
   },
   "file_extension": ".py",
   "mimetype": "text/x-python",
   "name": "python",
   "nbconvert_exporter": "python",
   "pygments_lexer": "ipython3",
   "version": "3.5.5"
  }
 },
 "nbformat": 4,
 "nbformat_minor": 2
}
