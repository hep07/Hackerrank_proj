{
 "cells": [
  {
   "cell_type": "markdown",
   "metadata": {},
   "source": [
    "https://www.hackerrank.com/challenges/sherlock-and-cost/problemb"
   ]
  },
  {
   "cell_type": "markdown",
   "metadata": {},
   "source": [
    "We claim \n",
    "that the optimal strategy is to use either 1 or B[k] for any position k at A[k]"
   ]
  },
  {
   "cell_type": "markdown",
   "metadata": {},
   "source": [
    "Proof:  \n",
    "\n"
   ]
  },
  {
   "cell_type": "code",
   "execution_count": null,
   "metadata": {},
   "outputs": [],
   "source": [
    "#!/bin/python3\n",
    "\n",
    "import math\n",
    "import os\n",
    "import random\n",
    "import re\n",
    "import sys\n",
    "\n",
    "# Complete the cost function below.\n",
    "def cost(B):\n",
    "    # we use dynamic programming, both time and space complexity is O(max(B)*len(B))\n",
    "    # Note that this still times out\n",
    "    \n",
    "    # initialize result table\n",
    "    max_abs_diff = {0: [0 for x in range(B[0])]} # key k denote using <=k positions from array B\n",
    "    # the value is an array indexed by 1:B[k] denoting if we let A[k] = j in 1:B[k], what is the maximum abs diff from B[:(k+1)]\n",
    "    \n",
    "    # move forward\n",
    "    for k in range(1, len(B)):\n",
    "        max_abs_diff[k] = []\n",
    "        for j in range(1, B[k]+1):\n",
    "            this_max = -1\n",
    "            for i,l in enumerate(max_abs_diff[k-1]):\n",
    "                candidate = math.fabs(j-(i+1)) + l\n",
    "                if candidate > this_max:\n",
    "                    this_max = candidate\n",
    "            max_abs_diff[k].append(this_max)\n",
    "    \n",
    "    # after finishing the table, take out what we want\n",
    "    out = int(max(max_abs_diff[len(B)-1] ))\n",
    "    \n",
    "    return(out)\n",
    "    \n",
    "def cost_extreme(B):\n",
    "    # we use dynamic programming, both time and space complexity is O(max(B)*len(B))\n",
    "    # Note that this still times out\n",
    "    \n",
    "    # initialize result table\n",
    "    max_abs_diff = {0: [0, 0]} # key k denote using <=k positions from array B\n",
    "    # the value is an array indexed by 1:B[k] denoting if we let A[k] = j in 1:B[k], what is the maximum abs diff from B[:(k+1)]\n",
    "    \n",
    "    # move forward\n",
    "    for k in range(1, len(B)):\n",
    "        max_abs_diff[k] = []\n",
    "        for j in [1, B[k]]:\n",
    "            this_max = -1\n",
    "            prev_range = [1, B[k-1]]\n",
    "            for i,l in enumerate(prev_range):\n",
    "                candidate = math.fabs(j-prev_range[i]) + max_abs_diff[k-1][i]\n",
    "                if candidate > this_max:\n",
    "                    this_max = candidate\n",
    "            max_abs_diff[k].append(this_max)\n",
    "    \n",
    "    # after finishing the table, take out what we want\n",
    "    out = int(max(max_abs_diff[len(B)-1] ))\n",
    "    \n",
    "    return(out)\n",
    "    \n",
    "if __name__ == '__main__':\n",
    "    fptr = open(os.environ['OUTPUT_PATH'], 'w')\n",
    "\n",
    "    t = int(input())\n",
    "\n",
    "    for t_itr in range(t):\n",
    "        n = int(input())\n",
    "\n",
    "        B = list(map(int, input().rstrip().split()))\n",
    "\n",
    "        result = cost_extreme(B)\n",
    "\n",
    "        fptr.write(str(result) + '\\n')\n",
    "\n",
    "    fptr.close()\n"
   ]
  }
 ],
 "metadata": {
  "kernelspec": {
   "display_name": "Python [conda env:tensorflow]",
   "language": "python",
   "name": "conda-env-tensorflow-py"
  },
  "language_info": {
   "codemirror_mode": {
    "name": "ipython",
    "version": 3
   },
   "file_extension": ".py",
   "mimetype": "text/x-python",
   "name": "python",
   "nbconvert_exporter": "python",
   "pygments_lexer": "ipython3",
   "version": "3.5.5"
  }
 },
 "nbformat": 4,
 "nbformat_minor": 2
}
