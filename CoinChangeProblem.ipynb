{
 "cells": [
  {
   "cell_type": "markdown",
   "metadata": {},
   "source": [
    "https://www.hackerrank.com/challenges/coin-change/problem"
   ]
  },
  {
   "cell_type": "code",
   "execution_count": null,
   "metadata": {},
   "outputs": [],
   "source": [
    "#!/bin/python3\n",
    "\n",
    "import math\n",
    "import os\n",
    "import random\n",
    "import re\n",
    "import sys\n",
    "#import numpy \n",
    "\n",
    "# Complete the getWays function below.\n",
    "def getWays(n, c):\n",
    "    # The idea is to use recursion. Denote f(n,c) = the number we want \n",
    "    # Then the recursion is that \n",
    "    # f(n,j) = f(n, j -1) + f(n- c_j-1, c[:j-1]) + f(n - c_j-1*2, c[:j-1]) + ..... \n",
    "    \n",
    "    \n",
    "    num_coins = len(c)\n",
    "    \n",
    "    # initialization\n",
    "    res_tbl = [[0]*(1+num_coins) for i in range(n+1)] \n",
    "    # n = 0, any num_coins (even for num_coins = 0 ) should have answer 1\n",
    "    res_tbl[0] = [1]*(1+num_coins)\n",
    "    \n",
    "    \n",
    "    # \n",
    "    for i in range(1, n+1):\n",
    "        for j in range(1,num_coins+1):\n",
    "            res_this = 0\n",
    "            trial = 0\n",
    "            while i - trial*c[j-1] >= 0:\n",
    "                res_this += res_tbl[i - trial*c[j-1]][j-1]\n",
    "                trial += 1\n",
    "            \n",
    "            #print(str(i) + \" \" + str(j) + \" \" + str(res_this))\n",
    "            res_tbl[i][j] = res_this\n",
    "            \n",
    "            \n",
    "    return(str(res_tbl[n][num_coins]))\n",
    "    \n",
    "\n",
    "if __name__ == '__main__':\n",
    "    fptr = open(os.environ['OUTPUT_PATH'], 'w')\n",
    "\n",
    "    nm = input().split()\n",
    "\n",
    "    n = int(nm[0])\n",
    "\n",
    "    m = int(nm[1])\n",
    "\n",
    "    c = list(map(int, input().rstrip().split()))\n",
    "\n",
    "    # Print the number of ways of making change for 'n' units using coins having the values given by 'c'\n",
    "\n",
    "    ways = getWays(n, c)\n",
    "    fptr.write(str(ways))\n",
    "    fptr.close()\n"
   ]
  }
 ],
 "metadata": {
  "kernelspec": {
   "display_name": "Python [conda env:tensorflow]",
   "language": "python",
   "name": "conda-env-tensorflow-py"
  },
  "language_info": {
   "codemirror_mode": {
    "name": "ipython",
    "version": 3
   },
   "file_extension": ".py",
   "mimetype": "text/x-python",
   "name": "python",
   "nbconvert_exporter": "python",
   "pygments_lexer": "ipython3",
   "version": "3.5.5"
  }
 },
 "nbformat": 4,
 "nbformat_minor": 2
}
