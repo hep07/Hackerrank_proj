{
 "cells": [
  {
   "cell_type": "markdown",
   "metadata": {},
   "source": [
    "https://www.hackerrank.com/challenges/knightl-on-chessboard/problem"
   ]
  },
  {
   "cell_type": "code",
   "execution_count": 2,
   "metadata": {},
   "outputs": [],
   "source": [
    "#!/bin/python3\n",
    "\n",
    "import math\n",
    "import os\n",
    "import random\n",
    "import re\n",
    "import sys\n",
    "\n",
    "# Complete the knightlOnAChessboard function below.\n",
    "# we use a helper function to get neighbors taking into account boundary conditions\n",
    "def neighbors(a, b, x, y, n):\n",
    "    return filter(lambda v : v[0] >= 0 \n",
    "      and v[1] >= 0 \n",
    "      and v[0] < n \n",
    "      and v[1] < n,\n",
    "      [\n",
    "         (x + a, y + b),\n",
    "        (x + a, y - b),\n",
    "        (x - a, y + b),\n",
    "        (x - a, y - b),\n",
    "        (x + b, y + a),\n",
    "        (x + b, y - a),\n",
    "        (x - b, y + a),\n",
    "         (x - b, y - a),\n",
    "    ])\n",
    "\n",
    "def knightlOnAChessboard(n):\n",
    "    # use bfs for each possible (a,b) letting a<=b\n",
    "    out = [ [-1 for _ in range(1,n)] for _ in range(1,n)] # index from 0 to n-2\n",
    "    for a in range(1, n):\n",
    "        for b in range(a, n):\n",
    "            # bfs\n",
    "            bfs_queue = []\n",
    "            bfs_queue.append( ( [0,0], 0 ) )\n",
    "            dist = dict()\n",
    "            shortest_dist = -1 \n",
    "            while len(bfs_queue)>0:\n",
    "                this_node, this_dist = bfs_queue.pop(0)\n",
    "                next_nodes = neighbors(a, b, this_node[0], this_node[1], n)\n",
    "                for next_node in next_nodes:\n",
    "                    if next_node[0]==n-1 and next_node[1] == n-1:\n",
    "                        shortest_dist = this_dist + 1\n",
    "                        break\n",
    "                    if next_node not in dist:\n",
    "                        bfs_queue.append( (next_node, this_dist+1) )\n",
    "                        dist[next_node] = this_dist + 1\n",
    "            # shortest_dist stores the shortest dist from 0,0 to n-1,n-1\n",
    "            out[a-1][b-1] = shortest_dist\n",
    "    \n",
    "    # finish the other half\n",
    "    for a in range(1, n):\n",
    "        for b in range(1, a): # b<a \n",
    "            out[a-1][b-1] = out[b-1][a-1]\n",
    "            \n",
    "    return(out)\n",
    "            \n",
    "    \n",
    "                \n",
    "if __name__ == '__main__':\n",
    "    fptr = open(os.environ['OUTPUT_PATH'], 'w')\n",
    "\n",
    "    n = int(input())\n",
    "\n",
    "    result = knightlOnAChessboard(n)\n",
    "\n",
    "    fptr.write('\\n'.join([' '.join(map(str, x)) for x in result]))\n",
    "    fptr.write('\\n')\n",
    "\n",
    "    fptr.close()\n"
   ]
  },
  {
   "cell_type": "code",
   "execution_count": 3,
   "metadata": {},
   "outputs": [
    {
     "data": {
      "text/plain": [
       "[[-1, -1], [-1, -1]]"
      ]
     },
     "execution_count": 3,
     "metadata": {},
     "output_type": "execute_result"
    }
   ],
   "source": []
  },
  {
   "cell_type": "code",
   "execution_count": null,
   "metadata": {},
   "outputs": [],
   "source": []
  }
 ],
 "metadata": {
  "kernelspec": {
   "display_name": "Python [conda env:tensorflow]",
   "language": "python",
   "name": "conda-env-tensorflow-py"
  },
  "language_info": {
   "codemirror_mode": {
    "name": "ipython",
    "version": 3
   },
   "file_extension": ".py",
   "mimetype": "text/x-python",
   "name": "python",
   "nbconvert_exporter": "python",
   "pygments_lexer": "ipython3",
   "version": "3.5.5"
  }
 },
 "nbformat": 4,
 "nbformat_minor": 2
}
