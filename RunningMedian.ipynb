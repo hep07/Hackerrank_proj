{
 "cells": [
  {
   "cell_type": "markdown",
   "metadata": {},
   "source": [
    "We can keep two heaps, one max heap, one min heap"
   ]
  },
  {
   "cell_type": "code",
   "execution_count": 1,
   "metadata": {},
   "outputs": [],
   "source": [
    "import heapq"
   ]
  },
  {
   "cell_type": "code",
   "execution_count": 2,
   "metadata": {},
   "outputs": [],
   "source": [
    "maxHeap = []\n",
    "minHeap = []\n",
    "heapq.heappush(maxHeap, 5)"
   ]
  },
  {
   "cell_type": "code",
   "execution_count": 3,
   "metadata": {},
   "outputs": [
    {
     "data": {
      "text/plain": [
       "[5]"
      ]
     },
     "execution_count": 3,
     "metadata": {},
     "output_type": "execute_result"
    }
   ],
   "source": [
    "maxHeap"
   ]
  },
  {
   "cell_type": "code",
   "execution_count": 4,
   "metadata": {},
   "outputs": [
    {
     "data": {
      "text/plain": [
       "list"
      ]
     },
     "execution_count": 4,
     "metadata": {},
     "output_type": "execute_result"
    }
   ],
   "source": [
    "type(maxHeap)"
   ]
  },
  {
   "cell_type": "code",
   "execution_count": 5,
   "metadata": {},
   "outputs": [
    {
     "data": {
      "text/plain": [
       "5"
      ]
     },
     "execution_count": 5,
     "metadata": {},
     "output_type": "execute_result"
    }
   ],
   "source": [
    "heapq.heappop(maxHeap)"
   ]
  },
  {
   "cell_type": "code",
   "execution_count": 6,
   "metadata": {},
   "outputs": [],
   "source": [
    "heapq.heappush(maxHeap, (5,\"sdf\"))\n",
    "heapq.heappush(maxHeap, (4,\"asdf\"))\n",
    "heapq.heappush(maxHeap, (2,\"7sdf\"))\n",
    "heapq.heappush(maxHeap, (6,\"sdf\"))"
   ]
  },
  {
   "cell_type": "code",
   "execution_count": 7,
   "metadata": {},
   "outputs": [
    {
     "data": {
      "text/plain": [
       "(2, '7sdf')"
      ]
     },
     "execution_count": 7,
     "metadata": {},
     "output_type": "execute_result"
    }
   ],
   "source": [
    "heapq.heappop(maxHeap)"
   ]
  },
  {
   "cell_type": "code",
   "execution_count": 8,
   "metadata": {},
   "outputs": [
    {
     "data": {
      "text/plain": [
       "[(4, 'asdf'), (5, 'sdf'), (6, 'sdf')]"
      ]
     },
     "execution_count": 8,
     "metadata": {},
     "output_type": "execute_result"
    }
   ],
   "source": [
    "maxHeap"
   ]
  },
  {
   "cell_type": "code",
   "execution_count": 9,
   "metadata": {},
   "outputs": [],
   "source": [
    "# Note that heapq is a minheap"
   ]
  },
  {
   "cell_type": "code",
   "execution_count": null,
   "metadata": {},
   "outputs": [],
   "source": []
  },
  {
   "cell_type": "code",
   "execution_count": 40,
   "metadata": {},
   "outputs": [],
   "source": [
    "def insertItem(k, maxHeap, minHeap):\n",
    "    # maintain maxHeap always <= minHeap    \n",
    "    # log(n) complexity\n",
    "    if len(minHeap) == 0 or k > minHeap[0]:\n",
    "        heapq.heappush(minHeap, k)\n",
    "    else:\n",
    "        heapq.heappush(maxHeap, -k)\n",
    "        \n",
    "    # maintain the diff between length of the two heaps to be within <= 1\n",
    "    # log(n) complexity\n",
    "    if len(minHeap) - len(maxHeap) ==2:\n",
    "        temp = heapq.heappop(minHeap)\n",
    "        heapq.heappush(maxHeap, -temp)\n",
    "    if len(minHeap) - len(maxHeap) ==-2:\n",
    "        temp = heapq.heappop(maxHeap)\n",
    "        #print(temp)\n",
    "        heapq.heappush(minHeap, -temp)\n",
    "\n",
    "def queryMedian(maxHeap, minHeap):\n",
    "    if len(maxHeap) - len(minHeap)==1:\n",
    "        return -maxHeap[0]\n",
    "    if len(maxHeap) - len(minHeap)==-1:\n",
    "        return minHeap[0]\n",
    "    # if we get here, even number of total length \n",
    "    return (minHeap[0] -maxHeap[0])/2.0\n",
    "        \n",
    "\n",
    "def dynamicMedian(arr):\n",
    "    # maintain tow heaps\n",
    "    maxHeap = []\n",
    "    minHeap = []\n",
    "    \n",
    "    runningMedian = []\n",
    "    \n",
    "    for k in arr:\n",
    "        #print(k)\n",
    "        insertItem(k, maxHeap, minHeap)\n",
    "        #print(maxHeap)\n",
    "        #print(minHeap)\n",
    "        runningMedian.append( queryMedian(maxHeap, minHeap) )\n",
    "        \n",
    "    return(runningMedian)"
   ]
  },
  {
   "cell_type": "code",
   "execution_count": null,
   "metadata": {},
   "outputs": [],
   "source": []
  },
  {
   "cell_type": "code",
   "execution_count": 41,
   "metadata": {},
   "outputs": [
    {
     "data": {
      "text/plain": [
       "[12, 8.0, 5, 4.5, 5, 6.0]"
      ]
     },
     "execution_count": 41,
     "metadata": {},
     "output_type": "execute_result"
    }
   ],
   "source": [
    "dynamicMedian([12,4,5,3,8,7])"
   ]
  },
  {
   "cell_type": "code",
   "execution_count": null,
   "metadata": {},
   "outputs": [],
   "source": []
  }
 ],
 "metadata": {
  "kernelspec": {
   "display_name": "Python 3",
   "language": "python",
   "name": "python3"
  },
  "language_info": {
   "codemirror_mode": {
    "name": "ipython",
    "version": 3
   },
   "file_extension": ".py",
   "mimetype": "text/x-python",
   "name": "python",
   "nbconvert_exporter": "python",
   "pygments_lexer": "ipython3",
   "version": "3.6.5"
  }
 },
 "nbformat": 4,
 "nbformat_minor": 2
}
